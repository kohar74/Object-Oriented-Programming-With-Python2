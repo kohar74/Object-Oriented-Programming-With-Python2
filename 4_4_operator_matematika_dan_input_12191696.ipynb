{
 "cells": [
  {
   "cell_type": "code",
   "execution_count": null,
   "metadata": {
    "id": "f7WajviOKztl"
   },
   "outputs": [],
   "source": []
  },
  {
   "cell_type": "markdown",
   "metadata": {
    "id": "Zf9uJW37LCfb"
   },
   "source": [
    "**Praktek Operasi Input Dan Operator Matematika**\n",
    "\n",
    "Bukalah kembali praktek operator matematika.\n",
    "\n",
    "Ubahlah agar variable **a** dan **b** menggunakan input dari keyboard\n",
    "\n",
    "\n",
    "Implementasikan code di bawah ini pada kode cell editor:\n",
    "``` javascript\n",
    "selisih = a-b\n",
    "jumlah = a+b\n",
    "kali = a*b\n",
    "bagi = a/b\n",
    "print(\"Hasil penjumlahan dan b adalah\", jumlah)\n",
    "print(\"Selisih a dan b adalah :\",selisih)\n",
    "print(\"Hasil perkalian a dan b adalah :\",kali)\n",
    "print(\"Hasil  pembagian a dan b adalah:\",bagi)\n",
    "\n",
    "``` \n",
    " \n",
    "\n",
    "Ketikan pada code cell di bawah ini pada editor:"
   ]
  },
  {
   "cell_type": "code",
   "execution_count": 2,
   "metadata": {
    "id": "hYGfkiKOMo_x"
   },
   "outputs": [
    {
     "name": "stdout",
     "output_type": "stream",
     "text": [
      "Hasil penjumlahan a dan b adalah 3\n",
      "Selisih a dan b adalah : 1\n",
      "Hasil perkalian a dan b adalah : 2\n",
      "Hasil  pembagian a dan b adalah: 2.0\n"
     ]
    }
   ],
   "source": [
    "##Jawaban Tugas Praktek 3.4\n",
    "a=2\n",
    "b=1\n",
    "selisih = a-b\n",
    "jumlah = a+b\n",
    "kali = a*b\n",
    "bagi = a/b\n",
    "print(\"Hasil penjumlahan a dan b adalah\", jumlah)\n",
    "print(\"Selisih a dan b adalah :\",selisih)\n",
    "print(\"Hasil perkalian a dan b adalah :\",kali)\n",
    "print(\"Hasil  pembagian a dan b adalah:\",bagi)"
   ]
  },
  {
   "cell_type": "code",
   "execution_count": 1,
   "metadata": {},
   "outputs": [
    {
     "name": "stdin",
     "output_type": "stream",
     "text": [
      "Masukan a = 1\n",
      "Masukan b = 2\n"
     ]
    },
    {
     "name": "stdout",
     "output_type": "stream",
     "text": [
      "Hasil penjumlahan a dan b adalah 3\n",
      "Selisih a dan b adalah : -1\n",
      "Hasil perkalian a dan b adalah : 2\n",
      "Hasil  pembagian a dan b adalah: 0.5\n"
     ]
    }
   ],
   "source": [
    "a=int(input(\"Masukan a =\"))\n",
    "b=int(input(\"Masukan b =\"))\n",
    "pengurangan = a-b\n",
    "penjumlahan = a+b\n",
    "perkalian = a*b\n",
    "pembagi = a/b\n",
    "print(\"Hasil penjumlahan a dan b adalah\", penjumlahan)\n",
    "print(\"Selisih a dan b adalah :\",pengurangan)\n",
    "print(\"Hasil perkalian a dan b adalah :\",perkalian)\n",
    "print(\"Hasil  pembagian a dan b adalah:\",pembagi)"
   ]
  },
  {
   "cell_type": "code",
   "execution_count": null,
   "metadata": {},
   "outputs": [],
   "source": []
  }
 ],
 "metadata": {
  "colab": {
   "collapsed_sections": [],
   "name": "4.4_operator_matematika_dan_input.ipynb",
   "provenance": []
  },
  "kernelspec": {
   "display_name": "Python 3",
   "language": "python",
   "name": "python3"
  },
  "language_info": {
   "codemirror_mode": {
    "name": "ipython",
    "version": 3
   },
   "file_extension": ".py",
   "mimetype": "text/x-python",
   "name": "python",
   "nbconvert_exporter": "python",
   "pygments_lexer": "ipython3",
   "version": "3.8.3"
  }
 },
 "nbformat": 4,
 "nbformat_minor": 4
}
